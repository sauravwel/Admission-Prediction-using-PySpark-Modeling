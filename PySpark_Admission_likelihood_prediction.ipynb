{
  "nbformat": 4,
  "nbformat_minor": 0,
  "metadata": {
    "colab": {
      "provenance": []
    },
    "kernelspec": {
      "name": "python3",
      "display_name": "Python 3"
    },
    "language_info": {
      "name": "python"
    }
  },
  "cells": [
    {
      "cell_type": "markdown",
      "source": [
        "#### Import important libraries"
      ],
      "metadata": {
        "id": "TRTrNlbQ3h2T"
      }
    },
    {
      "cell_type": "code",
      "execution_count": 5,
      "metadata": {
        "id": "HjGJfHaX1vFt"
      },
      "outputs": [],
      "source": [
        "#!pip install pyspark\n",
        "from __future__ import print_function\n",
        "import pyspark\n",
        "from pyspark.sql import SparkSession\n",
        "from pyspark.ml.feature import VectorAssembler,VectorIndexer\n",
        "from pyspark.ml.feature import VectorAssembler\n",
        "from pyspark.ml.regression import LinearRegression\n",
        "from pyspark.ml.regression import RandomForestRegressor\n",
        "from pyspark.ml.evaluation import RegressionEvaluator"
      ]
    },
    {
      "cell_type": "markdown",
      "source": [
        "#### Load data and its details"
      ],
      "metadata": {
        "id": "wb8Wqdvx4uda"
      }
    },
    {
      "cell_type": "code",
      "source": [
        "spark = SparkSession.builder.appName(\"Admission Likelihood\").getOrCreate()\n",
        "dataframe = spark.read.csv(\"Admission_Prediction.csv\",header=True)\n",
        "dataframe.show()"
      ],
      "metadata": {
        "colab": {
          "base_uri": "https://localhost:8080/"
        },
        "id": "-vshXOL94UMA",
        "outputId": "c29b45b6-4b90-4cde-fcff-b05973a2d757"
      },
      "execution_count": 7,
      "outputs": [
        {
          "output_type": "stream",
          "name": "stdout",
          "text": [
            "+---------+-----------+-----------------+----+----+----+--------+---------------+\n",
            "|GRE Score|TOEFL Score|University Rating| SOP| LOR|CGPA|Research|Chance of Admit|\n",
            "+---------+-----------+-----------------+----+----+----+--------+---------------+\n",
            "|   337.00|     118.00|                4|4.50|4.50|9.65|    1.00|           0.92|\n",
            "|   324.00|     107.00|                4|4.00|4.50|8.87|    1.00|           0.76|\n",
            "|     null|     104.00|                3|3.00|3.50|8.00|    1.00|           0.72|\n",
            "|   322.00|     110.00|                3|3.50|2.50|8.67|    1.00|           0.80|\n",
            "|   314.00|     103.00|                2|2.00|3.00|8.21|    0.00|           0.65|\n",
            "|   330.00|     115.00|                5|4.50|3.00|9.34|    1.00|           0.90|\n",
            "|   321.00|     109.00|             null|3.00|4.00|8.20|    1.00|           0.75|\n",
            "|   308.00|     101.00|                2|3.00|4.00|7.90|    0.00|           0.68|\n",
            "|   302.00|     102.00|                1|2.00|1.50|8.00|    0.00|           0.50|\n",
            "|   323.00|     108.00|                3|3.50|3.00|8.60|    0.00|           0.45|\n",
            "|   325.00|     106.00|                3|3.50|4.00|8.40|    1.00|           0.52|\n",
            "|   327.00|     111.00|                4|4.00|4.50|9.00|    1.00|           0.84|\n",
            "|     null|     112.00|                4|4.00|4.50|9.10|    1.00|           0.78|\n",
            "|   307.00|     109.00|                3|4.00|3.00|8.00|    1.00|           0.62|\n",
            "|   311.00|     104.00|                3|3.50|2.00|8.20|    1.00|           0.61|\n",
            "|   314.00|     105.00|                3|3.50|2.50|8.30|    0.00|           0.54|\n",
            "|   317.00|     107.00|                3|4.00|3.00|8.70|    0.00|           0.66|\n",
            "|   319.00|     106.00|                3|4.00|3.00|8.00|    1.00|           0.65|\n",
            "|   318.00|     110.00|                3|4.00|3.00|8.80|    0.00|           0.63|\n",
            "|   303.00|     102.00|                3|3.50|3.00|8.50|    0.00|           0.62|\n",
            "+---------+-----------+-----------------+----+----+----+--------+---------------+\n",
            "only showing top 20 rows\n",
            "\n"
          ]
        }
      ]
    },
    {
      "cell_type": "code",
      "source": [
        "dataframe.printSchema()"
      ],
      "metadata": {
        "colab": {
          "base_uri": "https://localhost:8080/"
        },
        "id": "PvizlCua44DH",
        "outputId": "693d73ef-06b8-43ea-cb79-d0f91b8b538e"
      },
      "execution_count": 8,
      "outputs": [
        {
          "output_type": "stream",
          "name": "stdout",
          "text": [
            "root\n",
            " |-- GRE Score: string (nullable = true)\n",
            " |-- TOEFL Score: string (nullable = true)\n",
            " |-- University Rating: string (nullable = true)\n",
            " |-- SOP: string (nullable = true)\n",
            " |-- LOR: string (nullable = true)\n",
            " |-- CGPA: string (nullable = true)\n",
            " |-- Research: string (nullable = true)\n",
            " |-- Chance of Admit: string (nullable = true)\n",
            "\n"
          ]
        }
      ]
    },
    {
      "cell_type": "markdown",
      "source": [
        "#### Data Cleaning"
      ],
      "metadata": {
        "id": "oscqxyLb5RGo"
      }
    },
    {
      "cell_type": "code",
      "source": [
        "#Convert the type\n",
        "from pyspark.sql.functions import col\n",
        "new_dataframe = dataframe.select(*(col(c).cast(\"float\").alias(c) for c in dataframe.columns))\n",
        "new_dataframe.printSchema()"
      ],
      "metadata": {
        "colab": {
          "base_uri": "https://localhost:8080/"
        },
        "id": "QOaQWMFL5AXg",
        "outputId": "c42af135-d5d6-49da-85c0-7af9fbec0837"
      },
      "execution_count": 9,
      "outputs": [
        {
          "output_type": "stream",
          "name": "stdout",
          "text": [
            "root\n",
            " |-- GRE Score: float (nullable = true)\n",
            " |-- TOEFL Score: float (nullable = true)\n",
            " |-- University Rating: float (nullable = true)\n",
            " |-- SOP: float (nullable = true)\n",
            " |-- LOR: float (nullable = true)\n",
            " |-- CGPA: float (nullable = true)\n",
            " |-- Research: float (nullable = true)\n",
            " |-- Chance of Admit: float (nullable = true)\n",
            "\n"
          ]
        }
      ]
    },
    {
      "cell_type": "code",
      "source": [
        "from pyspark.sql.functions import col, count, isnan, when\n",
        "#check for null in columns\n",
        "new_dataframe.select([count(when(col(c).isNull(), c)).alias(c) for c in new_dataframe.columns]).show()"
      ],
      "metadata": {
        "colab": {
          "base_uri": "https://localhost:8080/"
        },
        "id": "KBG16gC-6BIA",
        "outputId": "d3432889-f2e4-406c-8d90-148d9c70bb23"
      },
      "execution_count": 12,
      "outputs": [
        {
          "output_type": "stream",
          "name": "stdout",
          "text": [
            "+---------+-----------+-----------------+---+---+----+--------+---------------+\n",
            "|GRE Score|TOEFL Score|University Rating|SOP|LOR|CGPA|Research|Chance of Admit|\n",
            "+---------+-----------+-----------------+---+---+----+--------+---------------+\n",
            "|       15|         10|               15|  0|  0|   0|       0|              0|\n",
            "+---------+-----------+-----------------+---+---+----+--------+---------------+\n",
            "\n"
          ]
        }
      ]
    },
    {
      "cell_type": "code",
      "source": [
        "#Impute the null value using inbuilt imputer\n",
        "from pyspark.ml.feature import Imputer\n",
        "imputer = Imputer(inputCols=[\"GRE Score\", \"TOEFL Score\",\"University Rating\"], \n",
        "                  outputCols=[\"GRE Score\", \"TOEFL Score\",\"University Rating\"])\n",
        "model = imputer.fit(new_dataframe)\n",
        "\n",
        "imputed_data = model.transform(new_dataframe)"
      ],
      "metadata": {
        "id": "2CCf5Lyf67OJ"
      },
      "execution_count": 16,
      "outputs": []
    },
    {
      "cell_type": "code",
      "source": [
        "imputed_data"
      ],
      "metadata": {
        "colab": {
          "base_uri": "https://localhost:8080/"
        },
        "id": "I4a-2pSE7mC8",
        "outputId": "701083bf-5ce9-4060-f81b-e01c559abb34"
      },
      "execution_count": 17,
      "outputs": [
        {
          "output_type": "execute_result",
          "data": {
            "text/plain": [
              "DataFrame[GRE Score: float, TOEFL Score: float, University Rating: float, SOP: float, LOR: float, CGPA: float, Research: float, Chance of Admit: float]"
            ]
          },
          "metadata": {},
          "execution_count": 17
        }
      ]
    },
    {
      "cell_type": "code",
      "source": [
        "#checking for null ir nan type values in our columns\n",
        "imputed_data.select([count(when(col(c).isNull(), c)).alias(c) for c in imputed_data.columns]).show()"
      ],
      "metadata": {
        "colab": {
          "base_uri": "https://localhost:8080/"
        },
        "id": "WvgyxSkk7uFT",
        "outputId": "07a23f12-23cd-45bf-9d58-6fc511d9b5ee"
      },
      "execution_count": 18,
      "outputs": [
        {
          "output_type": "stream",
          "name": "stdout",
          "text": [
            "+---------+-----------+-----------------+---+---+----+--------+---------------+\n",
            "|GRE Score|TOEFL Score|University Rating|SOP|LOR|CGPA|Research|Chance of Admit|\n",
            "+---------+-----------+-----------------+---+---+----+--------+---------------+\n",
            "|        0|          0|                0|  0|  0|   0|       0|              0|\n",
            "+---------+-----------+-----------------+---+---+----+--------+---------------+\n",
            "\n"
          ]
        }
      ]
    },
    {
      "cell_type": "markdown",
      "source": [
        "#### Model development"
      ],
      "metadata": {
        "id": "s1_C8icF3EVm"
      }
    },
    {
      "cell_type": "code",
      "source": [
        "features = imputed_data.drop('Chance of Admit')\n",
        "features"
      ],
      "metadata": {
        "colab": {
          "base_uri": "https://localhost:8080/"
        },
        "id": "lYv0qpSt3sue",
        "outputId": "8dd3d356-7760-4a27-9acf-c46799a17445"
      },
      "execution_count": 19,
      "outputs": [
        {
          "output_type": "execute_result",
          "data": {
            "text/plain": [
              "DataFrame[GRE Score: float, TOEFL Score: float, University Rating: float, SOP: float, LOR: float, CGPA: float, Research: float]"
            ]
          },
          "metadata": {},
          "execution_count": 19
        }
      ]
    },
    {
      "cell_type": "code",
      "source": [
        "#let's assemble our features together using vectorAssembler\n",
        "assembler = VectorAssembler( inputCols=features.columns,outputCol=\"features\")\n",
        "output = assembler.transform(imputed_data)\n"
      ],
      "metadata": {
        "id": "9lVWCGnR8IWu"
      },
      "execution_count": 21,
      "outputs": []
    },
    {
      "cell_type": "code",
      "source": [
        "output= output.select(\"features\", \"Chance of Admit\")\n",
        "output = assembler.transform(imputed_data)\n",
        "output= output.select(\"features\", \"Chance of Admit\")\n"
      ],
      "metadata": {
        "id": "S0B7OVqc8OzW"
      },
      "execution_count": 23,
      "outputs": []
    },
    {
      "cell_type": "code",
      "source": [
        "#train-test spilit\n",
        "train_df,test_df = output.randomSplit([0.7, 0.3])\n",
        "train_df.show()\n",
        "test_df.show()"
      ],
      "metadata": {
        "colab": {
          "base_uri": "https://localhost:8080/"
        },
        "id": "ow4JK9oxAs8i",
        "outputId": "1c79f85f-f2bd-467b-b76e-5fa233e03b7a"
      },
      "execution_count": 25,
      "outputs": [
        {
          "output_type": "stream",
          "name": "stdout",
          "text": [
            "+--------------------+---------------+\n",
            "|            features|Chance of Admit|\n",
            "+--------------------+---------------+\n",
            "|[290.0,100.0,1.0,...|           0.47|\n",
            "|[290.0,104.0,4.0,...|           0.45|\n",
            "|[293.0,97.0,2.0,2...|           0.64|\n",
            "|[294.0,93.0,1.0,1...|           0.46|\n",
            "|[295.0,93.0,1.0,2...|           0.46|\n",
            "|[295.0,96.0,2.0,1...|           0.47|\n",
            "|[295.0,99.0,1.0,2...|           0.37|\n",
            "|[295.0,99.0,2.0,2...|           0.57|\n",
            "|[295.0,101.0,2.0,...|           0.69|\n",
            "|[296.0,95.0,2.0,3...|           0.44|\n",
            "|[296.0,97.0,2.0,1...|           0.49|\n",
            "|[296.0,99.0,2.0,2...|           0.61|\n",
            "|[296.0,99.0,2.0,3...|           0.47|\n",
            "|[296.0,101.0,1.0,...|            0.6|\n",
            "|[297.0,96.0,2.0,2...|           0.43|\n",
            "|[297.0,99.0,4.0,3...|           0.54|\n",
            "|[297.0,100.0,1.0,...|           0.52|\n",
            "|[297.0,101.0,3.0,...|           0.57|\n",
            "|[298.0,92.0,1.0,2...|           0.51|\n",
            "|[298.0,97.0,3.121...|           0.45|\n",
            "+--------------------+---------------+\n",
            "only showing top 20 rows\n",
            "\n",
            "+--------------------+---------------+\n",
            "|            features|Chance of Admit|\n",
            "+--------------------+---------------+\n",
            "|[294.0,95.0,1.0,1...|           0.49|\n",
            "|[297.0,96.0,2.0,2...|           0.34|\n",
            "|[297.0,98.0,2.0,2...|           0.59|\n",
            "|[298.0,98.0,2.0,4...|           0.34|\n",
            "|[298.0,100.0,3.0,...|           0.58|\n",
            "|[298.0,101.0,4.0,...|           0.53|\n",
            "|[299.0,100.0,1.0,...|           0.59|\n",
            "|[299.0,100.0,3.0,...|           0.63|\n",
            "|[299.0,102.0,3.0,...|           0.56|\n",
            "|[300.0,95.0,2.0,3...|           0.62|\n",
            "|[300.0,99.0,1.0,3...|           0.36|\n",
            "|[300.0,101.0,3.0,...|           0.59|\n",
            "|[300.0,104.0,3.0,...|           0.71|\n",
            "|[300.0,105.0,1.0,...|           0.58|\n",
            "|[303.0,100.0,2.0,...|           0.64|\n",
            "|[304.0,107.0,3.0,...|           0.57|\n",
            "|[305.0,102.0,2.0,...|           0.59|\n",
            "|[305.0,104.0,2.0,...|           0.53|\n",
            "|[306.0,103.0,3.0,...|           0.64|\n",
            "|[307.0,102.0,3.0,...|           0.73|\n",
            "+--------------------+---------------+\n",
            "only showing top 20 rows\n",
            "\n"
          ]
        }
      ]
    },
    {
      "cell_type": "code",
      "source": [
        "##Linear Regression Model\n",
        "lin_reg = LinearRegression(featuresCol = 'features', labelCol='Chance of Admit')\n",
        "linear_model = lin_reg.fit(train_df)\n",
        "print(\"Coefficients: \" + str(linear_model.coefficients))\n",
        "print(\"Intercept: \" + str(linear_model.intercept))"
      ],
      "metadata": {
        "colab": {
          "base_uri": "https://localhost:8080/"
        },
        "id": "ho7swGn1A9Ux",
        "outputId": "5c453f6b-1883-41e7-d2f8-90a283c2bad7"
      },
      "execution_count": 26,
      "outputs": [
        {
          "output_type": "stream",
          "name": "stdout",
          "text": [
            "Coefficients: [0.0016169274883131293,0.0029230937970294905,0.003583327631676887,0.003070305256896099,0.012491420600041218,0.12783018127824258,0.024930337137995785]\n",
            "Intercept: -1.2790518550139507\n"
          ]
        }
      ]
    },
    {
      "cell_type": "code",
      "source": [
        "trainSummary = linear_model.summary\n",
        "print(\"RMSE: %f\" % trainSummary.rootMeanSquaredError)\n",
        "print(\"r2: %f\" % trainSummary.r2)"
      ],
      "metadata": {
        "colab": {
          "base_uri": "https://localhost:8080/"
        },
        "id": "OfclV9HPCW7C",
        "outputId": "86ea323f-961e-4b6b-a640-8f66aff448fb"
      },
      "execution_count": 27,
      "outputs": [
        {
          "output_type": "stream",
          "name": "stdout",
          "text": [
            "RMSE: 0.059050\n",
            "r2: 0.822595\n"
          ]
        }
      ]
    },
    {
      "cell_type": "markdown",
      "source": [
        "#### Model Evaluation"
      ],
      "metadata": {
        "id": "7-MJhOn1BbTB"
      }
    },
    {
      "cell_type": "code",
      "source": [
        "predictions = linear_model.transform(test_df)\n",
        "predictions.select(\"prediction\",\"Chance of Admit\",\"features\").show()"
      ],
      "metadata": {
        "colab": {
          "base_uri": "https://localhost:8080/"
        },
        "id": "yOs1a0CLBLSc",
        "outputId": "060bd8cd-0bd2-4dad-eca1-7150cdccdf3a"
      },
      "execution_count": 28,
      "outputs": [
        {
          "output_type": "stream",
          "name": "stdout",
          "text": [
            "+-------------------+---------------+--------------------+\n",
            "|         prediction|Chance of Admit|            features|\n",
            "+-------------------+---------------+--------------------+\n",
            "|0.47756722158359666|           0.49|[294.0,95.0,1.0,1...|\n",
            "|0.47139609808939364|           0.34|[297.0,96.0,2.0,2...|\n",
            "|  0.520412981486446|           0.59|[297.0,98.0,2.0,2...|\n",
            "| 0.5726541882332608|           0.34|[298.0,98.0,2.0,4...|\n",
            "|  0.604673598562099|           0.58|[298.0,100.0,3.0,...|\n",
            "| 0.5841899148546565|           0.53|[298.0,101.0,4.0,...|\n",
            "| 0.5384705836298911|           0.59|[299.0,100.0,1.0,...|\n",
            "|  0.563790390671048|           0.63|[299.0,100.0,3.0,...|\n",
            "| 0.6712123553008902|           0.56|[299.0,102.0,3.0,...|\n",
            "| 0.5945294655113844|           0.62|[300.0,95.0,2.0,3...|\n",
            "|  0.427365356200073|           0.36|[300.0,99.0,1.0,3...|\n",
            "| 0.5612853108757916|           0.59|[300.0,101.0,3.0,...|\n",
            "| 0.6120927191904677|           0.71|[300.0,104.0,3.0,...|\n",
            "| 0.5416631526087043|           0.58|[300.0,105.0,1.0,...|\n",
            "| 0.6185257486623728|           0.64|[303.0,100.0,2.0,...|\n",
            "| 0.5889806927238441|           0.57|[304.0,107.0,3.0,...|\n",
            "| 0.5318898287659657|           0.59|[305.0,102.0,2.0,...|\n",
            "| 0.5474894403994519|           0.53|[305.0,104.0,2.0,...|\n",
            "| 0.6252627237689012|           0.64|[306.0,103.0,3.0,...|\n",
            "| 0.6300912693481102|           0.73|[307.0,102.0,3.0,...|\n",
            "+-------------------+---------------+--------------------+\n",
            "only showing top 20 rows\n",
            "\n"
          ]
        }
      ]
    },
    {
      "cell_type": "markdown",
      "source": [],
      "metadata": {
        "id": "P-ZORh5c3tXM"
      }
    },
    {
      "cell_type": "code",
      "source": [],
      "metadata": {
        "id": "Vmf9-RtQ3uN1"
      },
      "execution_count": null,
      "outputs": []
    },
    {
      "cell_type": "markdown",
      "source": [],
      "metadata": {
        "id": "W6XQjvwP3uwt"
      }
    },
    {
      "cell_type": "markdown",
      "source": [],
      "metadata": {
        "id": "aufxn_dW1zHK"
      }
    }
  ]
}